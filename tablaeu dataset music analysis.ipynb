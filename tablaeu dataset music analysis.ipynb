{
 "cells": [
  {
   "cell_type": "code",
   "execution_count": 3,
   "id": "852653ef",
   "metadata": {},
   "outputs": [],
   "source": [
    "#import libraries \n",
    "import pandas as pd \n",
    "import numpy as np\n",
    "import sqlite3 \n",
    "import matplotlib.pyplot as plt"
   ]
  },
  {
   "cell_type": "code",
   "execution_count": 4,
   "id": "36e6d65b",
   "metadata": {},
   "outputs": [],
   "source": [
    "conn=sqlite3.connect('/Users/kryst/Library/DBeaverData/workspace6/.metadata/sample-database-sqlite-1/Chinook.db')\n",
    "df = pd.read_sql_query(\"select a.name as Artist_Name\\\n",
    ", al.title as Album_Title \\\n",
    ", g.name as Genre \\\n",
    ", t.Composer \\\n",
    ", t.Name as Track \\\n",
    ", t.UnitPrice as Track_Cost \\\n",
    ",i.InvoiceId \\\n",
    ", il.UnitPrice as Track_Price \\\n",
    ", e.EmployeeId, e.FirstName as SR_firstname \\\n",
    ",e.LastName as SR_lastname \\\n",
    ", e.Title as SR_Title \\\n",
    ",e.City as SR_city \\\n",
    ", e.State as SR_State \\\n",
    ", e.Country as SR_Country \\\n",
    ", c.CustomerId \\\n",
    ", c.FirstName as Customer_FirstName \\\n",
    ", c.LastName as Customer_LastName \\\n",
    ",c.City as Customer_City \\\n",
    ", c.State as Customer_State \\\n",
    ", c.Country as Customer_Country \\\n",
    "From Artist a \\\n",
    "left Join Album al on a.ArtistId = al.ArtistId \\\n",
    "Left Join Track t  on al.AlbumId = t.AlbumId  \\\n",
    "Left Join Genre g on t.GenreId = g.GenreId \\\n",
    "Left Join InvoiceLine il on t.TrackId = il.TrackId \\\n",
    "left Join Invoice i on il.InvoiceId = i.InvoiceId \\\n",
    "Left join Customer c on i.CustomerId = c.CustomerId \\\n",
    "left join Employee e on e.EmployeeId = c.SupportRepId\", conn)\n"
   ]
  },
  {
   "cell_type": "code",
   "execution_count": 5,
   "id": "1578e762",
   "metadata": {
    "scrolled": true
   },
   "outputs": [
    {
     "name": "stdout",
     "output_type": "stream",
     "text": [
      "<class 'pandas.core.frame.DataFrame'>\n",
      "RangeIndex: 3830 entries, 0 to 3829\n",
      "Data columns (total 21 columns):\n",
      " #   Column              Non-Null Count  Dtype  \n",
      "---  ------              --------------  -----  \n",
      " 0   Artist_Name         3830 non-null   object \n",
      " 1   Album_Title         3759 non-null   object \n",
      " 2   Genre               3759 non-null   object \n",
      " 3   Composer            2712 non-null   object \n",
      " 4   Track               3759 non-null   object \n",
      " 5   Track_Cost          3759 non-null   float64\n",
      " 6   InvoiceId           2240 non-null   float64\n",
      " 7   Track_Price         2240 non-null   float64\n",
      " 8   EmployeeId          2240 non-null   float64\n",
      " 9   SR_firstname        2240 non-null   object \n",
      " 10  SR_lastname         2240 non-null   object \n",
      " 11  SR_Title            2240 non-null   object \n",
      " 12  SR_city             2240 non-null   object \n",
      " 13  SR_State            2240 non-null   object \n",
      " 14  SR_Country          2240 non-null   object \n",
      " 15  CustomerId          2240 non-null   float64\n",
      " 16  Customer_FirstName  2240 non-null   object \n",
      " 17  Customer_LastName   2240 non-null   object \n",
      " 18  Customer_City       2240 non-null   object \n",
      " 19  Customer_State      1140 non-null   object \n",
      " 20  Customer_Country    2240 non-null   object \n",
      "dtypes: float64(5), object(16)\n",
      "memory usage: 628.5+ KB\n"
     ]
    }
   ],
   "source": [
    "df.info()"
   ]
  },
  {
   "cell_type": "code",
   "execution_count": 6,
   "id": "0fe02e82",
   "metadata": {},
   "outputs": [],
   "source": [
    "df1 = df"
   ]
  },
  {
   "cell_type": "code",
   "execution_count": 7,
   "id": "538670ab",
   "metadata": {},
   "outputs": [],
   "source": [
    "df1['Artst2']=pd.read_sql_query(\"select \\\n",
    "CASE \\\n",
    "When Name  like 'Academy of St. Martin%' then 'Academy of St. Martin' \\\n",
    "When Name like 'Aerosmith%' then 'Aerosmith' \\\n",
    "WHEN Name like 'Battlestar%' then 'Battlestar' \\\n",
    "When Name like 'Berliner%' then 'Berliner Philharmoniker' \\\n",
    "when Name like 'Chicago Symphony%' then 'Chicaco Symphony' \\\n",
    "when Name like 'Milton%' then 'Milton Nascimento' \\\n",
    "when Name like 'Motörhead%' then 'Motorhead' \\\n",
    "when Name like 'Otto%' then 'Otto' \\\n",
    "when Name like 'Pedro%'then 'Pedro Luis' \\\n",
    "when Name Like 'R.E.M.%' then 'R.E.M.' \\\n",
    "when Name like 'Santana%' then 'Santana' \\\n",
    "when Name Like 'Sir Georg Solti%' then 'Sir Georg Solti' \\\n",
    "when Name like 'Vinícius De Moraes & Baden Powell%' then 'Vinìcius De Moraes' \\\n",
    "Else Name \\\n",
    "END as artist2 \\\n",
    "from Artist\",conn)\n",
    "\n"
   ]
  },
  {
   "cell_type": "code",
   "execution_count": 8,
   "id": "33e421a1",
   "metadata": {},
   "outputs": [],
   "source": [
    "df1.to_csv('/Users/kryst/Documents/Data analysis files/Python/EDAProject.csv')"
   ]
  },
  {
   "cell_type": "code",
   "execution_count": 9,
   "id": "3a489faf",
   "metadata": {},
   "outputs": [
    {
     "name": "stdout",
     "output_type": "stream",
     "text": [
      "<class 'pandas.core.frame.DataFrame'>\n",
      "RangeIndex: 3830 entries, 0 to 3829\n",
      "Data columns (total 22 columns):\n",
      " #   Column              Non-Null Count  Dtype  \n",
      "---  ------              --------------  -----  \n",
      " 0   Artist_Name         3830 non-null   object \n",
      " 1   Album_Title         3759 non-null   object \n",
      " 2   Genre               3759 non-null   object \n",
      " 3   Composer            2712 non-null   object \n",
      " 4   Track               3759 non-null   object \n",
      " 5   Track_Cost          3759 non-null   float64\n",
      " 6   InvoiceId           2240 non-null   float64\n",
      " 7   Track_Price         2240 non-null   float64\n",
      " 8   EmployeeId          2240 non-null   float64\n",
      " 9   SR_firstname        2240 non-null   object \n",
      " 10  SR_lastname         2240 non-null   object \n",
      " 11  SR_Title            2240 non-null   object \n",
      " 12  SR_city             2240 non-null   object \n",
      " 13  SR_State            2240 non-null   object \n",
      " 14  SR_Country          2240 non-null   object \n",
      " 15  CustomerId          2240 non-null   float64\n",
      " 16  Customer_FirstName  2240 non-null   object \n",
      " 17  Customer_LastName   2240 non-null   object \n",
      " 18  Customer_City       2240 non-null   object \n",
      " 19  Customer_State      1140 non-null   object \n",
      " 20  Customer_Country    2240 non-null   object \n",
      " 21  Artst2              275 non-null    object \n",
      "dtypes: float64(5), object(17)\n",
      "memory usage: 658.4+ KB\n"
     ]
    }
   ],
   "source": [
    "df1.info()"
   ]
  }
 ],
 "metadata": {
  "kernelspec": {
   "display_name": "Python 3 (ipykernel)",
   "language": "python",
   "name": "python3"
  },
  "language_info": {
   "codemirror_mode": {
    "name": "ipython",
    "version": 3
   },
   "file_extension": ".py",
   "mimetype": "text/x-python",
   "name": "python",
   "nbconvert_exporter": "python",
   "pygments_lexer": "ipython3",
   "version": "3.9.13"
  }
 },
 "nbformat": 4,
 "nbformat_minor": 5
}
